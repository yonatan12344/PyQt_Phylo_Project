{
 "cells": [
  {
   "cell_type": "code",
   "execution_count": 4,
   "id": "01f02cd1-cd81-42b5-bf5e-6a0b75a181e8",
   "metadata": {},
   "outputs": [
    {
     "name": "stdout",
     "output_type": "stream",
     "text": [
      "nthread = 0\n",
      "nthreadpair = 0\n",
      "nthreadtb = 0\n",
      "ppenalty_ex = 0\n",
      "stacksize: 8192 kb\n",
      "generating a scoring matrix for nucleotide (dist=200) ... done\n",
      "Gap Penalty = -1.53, +0.00, +0.00\n",
      "\n",
      "\n",
      "\n",
      "Making a distance matrix ..\n",
      "\n",
      "There are 340 ambiguous characters.\n",
      "    1 / 10\n",
      "done.\n",
      "\n",
      "Constructing a UPGMA tree (efffree=0) ... \n",
      "    0 / 10\n",
      "done.\n",
      "\n",
      "Progressive alignment 1/2... \n",
      "STEP     9 / 9 \n",
      "done.\n",
      "\n",
      "Making a distance matrix from msa.. \n",
      "    0 / 10\n",
      "done.\n",
      "\n",
      "Constructing a UPGMA tree (efffree=1) ... \n",
      "    0 / 10\n",
      "done.\n",
      "\n",
      "Progressive alignment 2/2... \n",
      "STEP     9 / 9 \n",
      "done.\n",
      "\n",
      "disttbfast (nuc) Version 7.505\n",
      "alg=A, model=DNA200 (2), 1.53 (4.59), -0.00 (-0.00), noshift, amax=0.0\n",
      "0 thread(s)\n",
      "\n",
      "\n",
      "Strategy:\n",
      " FFT-NS-2 (Fast but rough)\n",
      " Progressive method (guide trees were built 2 times.)\n",
      "\n",
      "If unsure which option to use, try 'mafft --auto input > output'.\n",
      "For more information, see 'mafft --help', 'mafft --man' and the mafft page.\n",
      "\n",
      "The default gap scoring scheme has been changed in version 7.110 (2013 Oct).\n",
      "It tends to insert more gaps into gap-rich regions than previous versions.\n",
      "To disable this change, add the --leavegappyregion option.\n",
      "\n"
     ]
    }
   ],
   "source": [
    "#import mafft\n",
    "!mafft --auto test_prealigned_sequences.fasta > test_post_aligned_sequences.fasta\n"
   ]
  },
  {
   "cell_type": "code",
   "execution_count": 18,
   "id": "5902c616-b202-41b4-904f-da17d00bad50",
   "metadata": {},
   "outputs": [
    {
     "name": "stdout",
     "output_type": "stream",
     "text": [
      "FastTree Version 2.1.11 Double precision (No SSE3)\n",
      "Alignment: test_post_aligned_sequences.fasta\n",
      "Nucleotide distances: Jukes-Cantor Joins: balanced Support: SH-like 1000\n",
      "Search: Normal +NNI +SPR (2 rounds range 10) +ML-NNI opt-each=1\n",
      "TopHits: 1.00*sqrtN close=default refresh=0.80\n",
      "ML Model: Generalized Time-Reversible, CAT approximation with 20 rate categories\n",
      "Ignored unknown character m (seen 1 times)\n",
      "Ignored unknown character n (seen 330 times)\n",
      "Ignored unknown character r (seen 7 times)\n",
      "Ignored unknown character y (seen 2 times)\n",
      "Initial topology in 0.12 seconds\n",
      "Refining topology: 13 rounds ME-NNIs, 2 rounds ME-SPRs, 7 rounds ML-NNIs\n",
      "Total branch-length 0.008 after 0.58 sec, 1 of 8 splits   \n",
      "\n",
      "WARNING! This alignment consists of closely-related and very-long sequences.\n",
      "WARNING! FastTree (or other standard maximum-likelihood tools)\n",
      "may not be appropriate for aligments of very closely-related sequences\n",
      "like this one, as FastTree does not account for recombination or gene conversion\n",
      "\n",
      "ML-NNI round 1: LogLk = -43624.635 NNIs 2 max delta 0.00 Time 1.00\n",
      "GTR Frequencies: 0.2991 0.1827 0.1959 0.3223ep 12 of 12   \n",
      "GTR rates(ac ag at cg ct gt) 1.0730 2.7006 0.3187 1.0831 6.0572 1.0000\n",
      "Switched to using 20 rate categories (CAT approximation)19 of 20   \n",
      "Rate categories were divided by 0.625 so that average rate = 1.0\n",
      "CAT-based log-likelihoods may not be comparable across runs\n",
      "ML-NNI round 2: LogLk = -42525.132 NNIs 0 max delta 0.00 Time 4.63\n",
      "Turning off heuristics for final round of ML NNIs (converged)\n",
      "ML-NNI round 3: LogLk = -42525.132 NNIs 0 max delta 0.00 Time 5.27 (final)\n",
      "Optimize all lengths: LogLk = -42525.132 Time 5.49\n",
      "Gamma(20) LogLk = -42595.032 alpha = 0.069 rescaling lengths by 1.127\n",
      "Total time: 9.62 seconds Unique: 10/10 Bad splits: 0/7\n"
     ]
    }
   ],
   "source": [
    "# Building the tree now\n",
    "#import veryfasttree\n",
    "!FastTree -nt -gtr -gamma \"test_post_aligned_sequences.fasta\" > input.tre"
   ]
  },
  {
   "cell_type": "code",
   "execution_count": 2,
   "id": "502a1543-9819-44e5-943a-95e60a0e637f",
   "metadata": {},
   "outputs": [
    {
     "name": "stdout",
     "output_type": "stream",
     "text": [
      "Usage: newick-viz [OPTIONS] INPUT_FILE GROUPS_FILE\n",
      "Try 'newick-viz -h' for help.\n",
      "\n",
      "Error: Invalid value for 'GROUPS_FILE': Path 'groups.json' does not exist.\n"
     ]
    }
   ],
   "source": [
    "!newick-viz input.tre groups.json -o tree.png"
   ]
  }
 ],
 "metadata": {
  "kernelspec": {
   "display_name": "Python 3 (ipykernel)",
   "language": "python",
   "name": "python3"
  },
  "language_info": {
   "codemirror_mode": {
    "name": "ipython",
    "version": 3
   },
   "file_extension": ".py",
   "mimetype": "text/x-python",
   "name": "python",
   "nbconvert_exporter": "python",
   "pygments_lexer": "ipython3",
   "version": "3.13.5"
  }
 },
 "nbformat": 4,
 "nbformat_minor": 5
}
