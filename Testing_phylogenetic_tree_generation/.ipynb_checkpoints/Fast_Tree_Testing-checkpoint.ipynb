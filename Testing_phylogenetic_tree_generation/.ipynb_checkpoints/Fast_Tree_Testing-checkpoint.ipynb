{
 "cells": [
  {
   "cell_type": "code",
   "execution_count": 4,
   "id": "01f02cd1-cd81-42b5-bf5e-6a0b75a181e8",
   "metadata": {},
   "outputs": [
    {
     "name": "stdout",
     "output_type": "stream",
     "text": [
      "nthread = 0\n",
      "nthreadpair = 0\n",
      "nthreadtb = 0\n",
      "ppenalty_ex = 0\n",
      "stacksize: 8192 kb\n",
      "generating a scoring matrix for nucleotide (dist=200) ... done\n",
      "Gap Penalty = -1.53, +0.00, +0.00\n",
      "\n",
      "\n",
      "\n",
      "Making a distance matrix ..\n",
      "\n",
      "There are 340 ambiguous characters.\n",
      "    1 / 10\n",
      "done.\n",
      "\n",
      "Constructing a UPGMA tree (efffree=0) ... \n",
      "    0 / 10\n",
      "done.\n",
      "\n",
      "Progressive alignment 1/2... \n",
      "STEP     9 / 9 \n",
      "done.\n",
      "\n",
      "Making a distance matrix from msa.. \n",
      "    0 / 10\n",
      "done.\n",
      "\n",
      "Constructing a UPGMA tree (efffree=1) ... \n",
      "    0 / 10\n",
      "done.\n",
      "\n",
      "Progressive alignment 2/2... \n",
      "STEP     9 / 9 \n",
      "done.\n",
      "\n",
      "disttbfast (nuc) Version 7.505\n",
      "alg=A, model=DNA200 (2), 1.53 (4.59), -0.00 (-0.00), noshift, amax=0.0\n",
      "0 thread(s)\n",
      "\n",
      "\n",
      "Strategy:\n",
      " FFT-NS-2 (Fast but rough)\n",
      " Progressive method (guide trees were built 2 times.)\n",
      "\n",
      "If unsure which option to use, try 'mafft --auto input > output'.\n",
      "For more information, see 'mafft --help', 'mafft --man' and the mafft page.\n",
      "\n",
      "The default gap scoring scheme has been changed in version 7.110 (2013 Oct).\n",
      "It tends to insert more gaps into gap-rich regions than previous versions.\n",
      "To disable this change, add the --leavegappyregion option.\n",
      "\n"
     ]
    }
   ],
   "source": [
    "#import mafft\n",
    "!mafft --auto test_prealigned_sequences.fasta > test_post_aligned_sequences.fasta\n"
   ]
  },
  {
   "cell_type": "code",
   "execution_count": 10,
   "id": "5902c616-b202-41b4-904f-da17d00bad50",
   "metadata": {},
   "outputs": [
    {
     "ename": "ModuleNotFoundError",
     "evalue": "No module named 'veryfasttree'",
     "output_type": "error",
     "traceback": [
      "\u001b[31m---------------------------------------------------------------------------\u001b[39m",
      "\u001b[31mModuleNotFoundError\u001b[39m                       Traceback (most recent call last)",
      "\u001b[36mCell\u001b[39m\u001b[36m \u001b[39m\u001b[32mIn[10]\u001b[39m\u001b[32m, line 2\u001b[39m\n\u001b[32m      1\u001b[39m \u001b[38;5;66;03m# Building the tree now\u001b[39;00m\n\u001b[32m----> \u001b[39m\u001b[32m2\u001b[39m \u001b[38;5;28;01mimport\u001b[39;00m\u001b[38;5;250m \u001b[39m\u001b[34;01mveryfasttree\u001b[39;00m\n\u001b[32m      3\u001b[39m tree = veryfasttree.run(\u001b[33m\"\u001b[39m\u001b[33mtest_post_aligned_sequences.fasta\u001b[39m\u001b[33m\"\u001b[39m, gtr=\u001b[38;5;28;01mTrue\u001b[39;00m, nt=\u001b[38;5;28;01mTrue\u001b[39;00m)\n\u001b[32m      5\u001b[39m \u001b[38;5;28mprint\u001b[39m(tree)\n",
      "\u001b[31mModuleNotFoundError\u001b[39m: No module named 'veryfasttree'"
     ]
    }
   ],
   "source": [
    "# Building the tree now\n",
    "import veryfasttree\n",
    "tree = veryfasttree.run(\"test_post_aligned_sequences.fasta\", gtr=True, nt=True)\n",
    "\n",
    "print(tree)"
   ]
  }
 ],
 "metadata": {
  "kernelspec": {
   "display_name": "Python 3 (ipykernel)",
   "language": "python",
   "name": "python3"
  },
  "language_info": {
   "codemirror_mode": {
    "name": "ipython",
    "version": 3
   },
   "file_extension": ".py",
   "mimetype": "text/x-python",
   "name": "python",
   "nbconvert_exporter": "python",
   "pygments_lexer": "ipython3",
   "version": "3.13.5"
  }
 },
 "nbformat": 4,
 "nbformat_minor": 5
}
